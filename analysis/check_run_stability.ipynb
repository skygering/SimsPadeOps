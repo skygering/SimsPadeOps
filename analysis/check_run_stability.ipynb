{
 "cells": [
  {
   "cell_type": "code",
   "execution_count": 1,
   "id": "49f11b49",
   "metadata": {},
   "outputs": [],
   "source": [
    "import pandas as pd\n",
    "import numpy as np\n",
    "import matplotlib.pyplot as plt\n",
    "import seaborn as sns\n",
    "import analysis_utils as au\n",
    "import matplotlib.pyplot as plt\n",
    "import os\n",
    "from pathlib import Path\n",
    "import quick_metadata_plots as mplts\n",
    "from scipy.stats import describe\n",
    "import padeopsIO as pio\n",
    "import math"
   ]
  },
  {
   "cell_type": "code",
   "execution_count": 2,
   "id": "25fbdd7a",
   "metadata": {},
   "outputs": [],
   "source": [
    "dpi = 300"
   ]
  },
  {
   "cell_type": "code",
   "execution_count": 3,
   "id": "5ef14460",
   "metadata": {},
   "outputs": [],
   "source": [
    "data_path = Path(au.DATA_PATH)"
   ]
  },
  {
   "cell_type": "code",
   "execution_count": 4,
   "id": "d3fc4340",
   "metadata": {},
   "outputs": [],
   "source": [
    "sim_11_all_folder = os.path.join(au.DATA_PATH, \"F_0011_SU_PI_Files\")"
   ]
  },
  {
   "cell_type": "code",
   "execution_count": null,
   "id": "9bd42b45",
   "metadata": {},
   "outputs": [],
   "source": [
    "sim11_run8_plt_folder = mplts.plot_instantaneous_field(sim_11_all_folder, 8, tidx = \"all\", field = \"u\", dpi = dpi)\n",
    "mplts.film_instantaneous_field(sim11_run8_plt_folder, fps = 10, video_name = \"u_stability.mp4\")"
   ]
  },
  {
   "cell_type": "code",
   "execution_count": null,
   "id": "6196e4d9",
   "metadata": {},
   "outputs": [],
   "source": [
    "sim11_run8_plt_folder = mplts.plot_instantaneous_field(sim_11_all_folder, 8, tidx = \"all\", field = \"u\", xlim = 0, dpi = dpi, set_plot_lims = True)\n",
    "mplts.film_instantaneous_field(sim11_run8_plt_folder, fps = 10, video_name = \"u_rotor_stability.mp4\")"
   ]
  },
  {
   "cell_type": "code",
   "execution_count": null,
   "id": "c56b2e4d",
   "metadata": {},
   "outputs": [],
   "source": [
    "sim11_run9_plt_folder = mplts.plot_instantaneous_field(sim_11_all_folder, 9, tidx = \"all\", field = \"u\", dpi = dpi)\n",
    "mplts.film_instantaneous_field(sim11_run9_plt_folder, fps = 10, video_name = \"u_stability.mp4\")"
   ]
  },
  {
   "cell_type": "code",
   "execution_count": null,
   "id": "da482ab3",
   "metadata": {},
   "outputs": [],
   "source": [
    "sim11_run9_plt_folder = mplts.plot_instantaneous_field(sim_11_all_folder, 9, tidx = \"all\", field = \"u\", xlim = 0, dpi = dpi, set_plot_lims = True)\n",
    "mplts.film_instantaneous_field(sim11_run9_plt_folder, fps = 10, video_name = \"u_rotor_stability.mp4\")"
   ]
  },
  {
   "cell_type": "code",
   "execution_count": null,
   "id": "230fddb7",
   "metadata": {},
   "outputs": [],
   "source": [
    "sim11_run10_plt_folder = mplts.plot_instantaneous_field(sim_11_all_folder, 10, tidx = \"all\", field = \"u\", dpi = dpi)\n",
    "mplts.film_instantaneous_field(sim11_run10_plt_folder, fps = 10, video_name = \"u_stability.mp4\")"
   ]
  },
  {
   "cell_type": "code",
   "execution_count": null,
   "id": "32b3dcd5",
   "metadata": {},
   "outputs": [],
   "source": [
    "sim11_run10_plt_folder = mplts.plot_instantaneous_field(sim_11_all_folder, 10, tidx = \"all\", field = \"u\", xlim = 0, dpi = dpi, set_plot_lims = True)\n",
    "mplts.film_instantaneous_field(sim11_run10_plt_folder, fps = 10, video_name = \"u_rotor_stability.mp4\")"
   ]
  },
  {
   "cell_type": "code",
   "execution_count": null,
   "id": "aba50a6d",
   "metadata": {},
   "outputs": [],
   "source": [
    "sim_12_all_folder = os.path.join(au.DATA_PATH, \"F_0012_SU_PI_Files\")"
   ]
  },
  {
   "cell_type": "code",
   "execution_count": null,
   "id": "5ef0433f",
   "metadata": {},
   "outputs": [],
   "source": [
    "sim12_run16_plt_folder = mplts.plot_instantaneous_field(sim_12_all_folder, 16, tidx = \"all\", field = \"u\", dpi = dpi)\n",
    "mplts.film_instantaneous_field(sim12_run16_plt_folder, fps = 10, video_name = \"u_stability.mp4\")"
   ]
  },
  {
   "cell_type": "code",
   "execution_count": null,
   "id": "c1d8b2a6",
   "metadata": {},
   "outputs": [],
   "source": [
    "sim12_run17_plt_folder = mplts.plot_instantaneous_field(sim_12_all_folder, 17, tidx = \"all\", field = \"u\", dpi = dpi)\n",
    "mplts.film_instantaneous_field(sim12_run17_plt_folder, fps = 10, video_name = \"u_stability.mp4\")"
   ]
  },
  {
   "cell_type": "code",
   "execution_count": null,
   "id": "0bea1f0a",
   "metadata": {},
   "outputs": [],
   "source": [
    "sim12_run18_plt_folder = mplts.plot_instantaneous_field(sim_12_all_folder, 18, tidx = \"all\", field = \"u\", dpi = dpi)\n",
    "mplts.film_instantaneous_field(sim12_run18_plt_folder, fps = 10, video_name = \"u_stability.mp4\")"
   ]
  },
  {
   "cell_type": "code",
   "execution_count": null,
   "id": "08ea3f27",
   "metadata": {},
   "outputs": [],
   "source": [
    "sim12_run19_plt_folder = mplts.plot_instantaneous_field(sim_12_all_folder, 19, tidx = \"all\", field = \"u\", dpi = dpi)\n",
    "mplts.film_instantaneous_field(sim12_run19_plt_folder, fps = 10, video_name = \"u_stability.mp4\")"
   ]
  },
  {
   "cell_type": "code",
   "execution_count": null,
   "id": "4fab500f",
   "metadata": {},
   "outputs": [],
   "source": [
    "sim12_run20_plt_folder = mplts.plot_instantaneous_field(sim_12_all_folder, 20, tidx = \"all\", field = \"u\", dpi = dpi)\n",
    "mplts.film_instantaneous_field(sim12_run20_plt_folder, fps = 10, video_name = \"u_stability.mp4\")"
   ]
  },
  {
   "cell_type": "code",
   "execution_count": null,
   "id": "1f291921",
   "metadata": {},
   "outputs": [],
   "source": [
    "sim12_run21_plt_folder = mplts.plot_instantaneous_field(sim_12_all_folder, 21, tidx = \"all\", field = \"u\", dpi = dpi)\n",
    "mplts.film_instantaneous_field(sim12_run21_plt_folder, fps = 10, video_name = \"u_stability.mp4\")"
   ]
  },
  {
   "cell_type": "code",
   "execution_count": null,
   "id": "33c93e11",
   "metadata": {},
   "outputs": [],
   "source": [
    "sim12_run41_plt_folder = mplts.plot_instantaneous_field(sim_12_all_folder, 41, tidx = \"all\", field = \"u\", dpi = dpi)\n",
    "mplts.film_instantaneous_field(sim12_run41_plt_folder, fps = 10, video_name = \"u_stability.mp4\")"
   ]
  },
  {
   "cell_type": "code",
   "execution_count": null,
   "id": "4724c90b",
   "metadata": {},
   "outputs": [],
   "source": [
    "sim12_run42_plt_folder = mplts.plot_instantaneous_field(sim_12_all_folder, 42, tidx = \"all\", field = \"u\", dpi = dpi)\n",
    "mplts.film_instantaneous_field(sim12_run42_plt_folder, fps = 10, video_name = \"u_stability.mp4\")"
   ]
  },
  {
   "cell_type": "code",
   "execution_count": null,
   "id": "d7daa95f",
   "metadata": {},
   "outputs": [],
   "source": [
    "sim12_run42_plt_folder = mplts.plot_instantaneous_field(sim_12_all_folder, 42, tidx = \"all\", field = \"u\", xlim = 0, dpi = dpi, set_plot_lims = True)\n",
    "mplts.film_instantaneous_field(sim12_run42_plt_folder, fps = 10, video_name = \"u_rotor_stability.mp4\")"
   ]
  },
  {
   "cell_type": "code",
   "execution_count": null,
   "id": "849dc7ba",
   "metadata": {},
   "outputs": [],
   "source": [
    "sim12_run43_plt_folder = mplts.plot_instantaneous_field(sim_12_all_folder, 43, tidx = \"all\", field = \"u\", dpi = dpi)\n",
    "mplts.film_instantaneous_field(sim12_run43_plt_folder, fps = 10, video_name = \"u_stability.mp4\")"
   ]
  },
  {
   "cell_type": "code",
   "execution_count": null,
   "id": "44fff070",
   "metadata": {},
   "outputs": [],
   "source": [
    "sim12_run44_plt_folder = mplts.plot_instantaneous_field(sim_12_all_folder, 44, tidx = \"all\", field = \"u\", dpi = dpi)\n",
    "mplts.film_instantaneous_field(sim12_run44_plt_folder, fps = 10, video_name = \"u_stability.mp4\")"
   ]
  },
  {
   "cell_type": "code",
   "execution_count": null,
   "id": "025fa8d2",
   "metadata": {},
   "outputs": [],
   "source": [
    "sim12_run45_plt_folder = mplts.plot_instantaneous_field(sim_12_all_folder, 45, tidx = \"all\", field = \"u\", dpi = dpi)\n",
    "mplts.film_instantaneous_field(sim12_run45_plt_folder, fps = 10, video_name = \"u_stability.mp4\")"
   ]
  },
  {
   "cell_type": "code",
   "execution_count": null,
   "id": "8e0714a5",
   "metadata": {},
   "outputs": [],
   "source": [
    "sim12_run45_plt_folder = mplts.plot_instantaneous_field(sim_12_all_folder, 45, tidx = \"all\", field = \"u\", xlim = 0, dpi = dpi, set_plot_lims = True)\n",
    "mplts.film_instantaneous_field(sim12_run45_plt_folder, fps = 10, video_name = \"u_rotor_stability.mp4\")"
   ]
  },
  {
   "cell_type": "code",
   "execution_count": 15,
   "id": "1a886da4",
   "metadata": {},
   "outputs": [],
   "source": [
    "sim_12_cont_folder = os.path.join(au.DATA_PATH, \"F_0012_SU_PI_Cont_Files\")"
   ]
  },
  {
   "cell_type": "code",
   "execution_count": null,
   "id": "0416f4bb",
   "metadata": {},
   "outputs": [],
   "source": [
    "sim12_run15_plt_folder = mplts.plot_instantaneous_field(sim_12_cont_folder, 15, tidx = \"all\", field = \"u\", dpi = dpi)\n",
    "mplts.film_instantaneous_field(sim12_run15_plt_folder, fps = 10, video_name = \"u_stability.mp4\")"
   ]
  },
  {
   "cell_type": "code",
   "execution_count": null,
   "id": "e4f8d722",
   "metadata": {},
   "outputs": [],
   "source": [
    "sim12_run15_plt_folder = mplts.plot_instantaneous_field(sim_12_cont_folder, 15, tidx = \"all\", field = \"u\", xlim = 0, dpi = dpi, set_plot_lims = True)\n",
    "mplts.film_instantaneous_field(sim12_run15_plt_folder, fps = 10, video_name = \"u_rotor_stability.mp4\")"
   ]
  },
  {
   "cell_type": "code",
   "execution_count": null,
   "id": "61202de0",
   "metadata": {},
   "outputs": [],
   "source": [
    "sim12_run31_plt_folder = mplts.plot_instantaneous_field(sim_12_cont_folder, 31, tidx = \"all\", field = \"u\", dpi = dpi)\n",
    "mplts.film_instantaneous_field(sim12_run31_plt_folder, fps = 10, video_name = \"u_stability.mp4\")"
   ]
  },
  {
   "cell_type": "code",
   "execution_count": null,
   "id": "9dc7e7d1",
   "metadata": {},
   "outputs": [],
   "source": [
    "sim12_run31_plt_folder = mplts.plot_instantaneous_field(sim_12_cont_folder, 31, tidx = \"all\", field = \"u\", xlim = 0, dpi = dpi, set_plot_lims = True)\n",
    "mplts.film_instantaneous_field(sim12_run31_plt_folder, fps = 10, video_name = \"u_rotor_stability.mp4\")"
   ]
  },
  {
   "cell_type": "code",
   "execution_count": 6,
   "id": "b11b968c",
   "metadata": {},
   "outputs": [],
   "source": [
    "sim_12_stab_folder = os.path.join(au.DATA_PATH, \"F_0012_SU_PI_Stability_Files\")"
   ]
  },
  {
   "cell_type": "code",
   "execution_count": null,
   "id": "5904c4fd",
   "metadata": {},
   "outputs": [],
   "source": [
    "fig, ax = plt.subplots(dpi = 100)\n",
    "mplts.plot_requested_turb_power(ax, sim_12_stab_folder, [17], labels = [\"high pitch\"], zoom = [0, 250])"
   ]
  },
  {
   "cell_type": "code",
   "execution_count": null,
   "id": "4225afab",
   "metadata": {},
   "outputs": [],
   "source": [
    "fig, ax = plt.subplots(dpi = 100)\n",
    "mplts.plot_requested_turb_power(ax, sim_12_stab_folder, [18], labels = [\"high pitch\"], zoom = [150, 250])"
   ]
  },
  {
   "cell_type": "code",
   "execution_count": null,
   "id": "c63a3e6a",
   "metadata": {},
   "outputs": [],
   "source": [
    "fig, ax = plt.subplots(dpi = 100)\n",
    "mplts.plot_requested_turb_power(ax, sim_12_stab_folder, [19], labels = [\"high surge\"], zoom = [100, 250])"
   ]
  },
  {
   "cell_type": "code",
   "execution_count": 4,
   "id": "d30e285a",
   "metadata": {},
   "outputs": [],
   "source": [
    "from scipy.fft import fft, fftfreq\n",
    "import padeopsIO as pio\n",
    "import math"
   ]
  },
  {
   "cell_type": "code",
   "execution_count": 31,
   "id": "73e50ae8",
   "metadata": {},
   "outputs": [
    {
     "name": "stderr",
     "output_type": "stream",
     "text": [
      "/home1/10264/sgering/.cache/pypoetry/virtualenvs/simspadeops-YbNxeWqo-py3.11/lib/python3.11/site-packages/padeopsIO/budgetIO.py:254: UserWarning: _init_padeops(): Sim_0019 no budget files found.\n",
      "  warnings.warn(f\"_init_padeops(): {self.filename} no budget files found.\")\n"
     ]
    },
    {
     "data": {
      "image/png": "[encoded data removed]",
      "text/plain": [
       "<Figure size 640x480 with 1 Axes>"
      ]
     },
     "metadata": {},
     "output_type": "display_data"
    }
   ],
   "source": [
    "run_folder = au.get_run_folder(sim_12_stab_folder, 19)\n",
    "sim = pio.BudgetIO(run_folder, padeops = True, runid = 0)\n",
    "dt = sim.input_nml[\"input\"][\"dt\"]\n",
    "trans_tau = int(math.ceil(100 / dt) + 1)\n",
    "power = sim.read_turb_uvel(\"all\", turb=1)[trans_tau:]\n",
    "mean_power = np.mean(power)\n",
    "non_mean_power = power - mean_power\n",
    "\n",
    "yf = fft(non_mean_power)\n",
    "N = len(yf)\n",
    "xf = fftfreq(N, dt)[:N//2]\n",
    "fig, ax = plt.subplots(dpi = 100)\n",
    "ax.plot(xf, 2.0/N * np.abs(yf[:N//2]))\n",
    "ax.grid()"
   ]
  },
  {
   "cell_type": "code",
   "execution_count": 28,
   "id": "042ee458",
   "metadata": {},
   "outputs": [
    {
     "name": "stderr",
     "output_type": "stream",
     "text": [
      "/home1/10264/sgering/.cache/pypoetry/virtualenvs/simspadeops-YbNxeWqo-py3.11/lib/python3.11/site-packages/padeopsIO/budgetIO.py:254: UserWarning: _init_padeops(): Sim_0014 no budget files found.\n",
      "  warnings.warn(f\"_init_padeops(): {self.filename} no budget files found.\")\n"
     ]
    },
    {
     "data": {
      "image/png": "[encoded data removed]",
      "text/plain": [
       "<Figure size 640x480 with 1 Axes>"
      ]
     },
     "metadata": {},
     "output_type": "display_data"
    }
   ],
   "source": [
    "run_folder = au.get_run_folder(sim_12_stab_folder, 14)\n",
    "sim = pio.BudgetIO(run_folder, padeops = True, runid = 0)\n",
    "dt = sim.input_nml[\"input\"][\"dt\"]\n",
    "trans_tau = int(math.ceil(100 / dt) + 1)\n",
    "power = sim.read_turb_uvel(\"all\", turb=1)[trans_tau:]\n",
    "mean_power = np.mean(power)\n",
    "non_mean_power = power - mean_power\n",
    "\n",
    "yf = fft(non_mean_power)\n",
    "N = len(yf)\n",
    "xf = fftfreq(N, dt)[:N//2]\n",
    "fig, ax = plt.subplots(dpi = 100)\n",
    "ax.plot(xf, 2.0/N * np.abs(yf[:N//2]))\n",
    "ax.grid()"
   ]
  },
  {
   "cell_type": "code",
   "execution_count": null,
   "id": "d59dc25a",
   "metadata": {},
   "outputs": [],
   "source": [
    "fig, ax = plt.subplots(dpi = 100)\n",
    "mplts.plot_requested_turb_power(ax, sim_12_stab_folder, [17], labels = [\"lower surge\"], zoom = [0, 250])"
   ]
  },
  {
   "cell_type": "code",
   "execution_count": null,
   "id": "fc6fc894",
   "metadata": {},
   "outputs": [],
   "source": [
    "fig, ax = plt.subplots(dpi = 100)\n",
    "mplts.plot_requested_turb_power(ax, sim_12_stab_folder, [28], labels = [\"lower surge\"], zoom = [0, 250])"
   ]
  },
  {
   "cell_type": "code",
   "execution_count": null,
   "id": "ef0549f7",
   "metadata": {},
   "outputs": [],
   "source": [
    "sim12_run39_plt_folder = mplts.plot_instantaneous_field(sim_12_stab_folder, 39, tidx = \"all\", field = \"u\", xlim = 0, dpi = dpi, set_plot_lims = True)\n",
    "mplts.film_instantaneous_field(sim12_run39_plt_folder, fps = 10, video_name = \"u_rotor_stability.mp4\")"
   ]
  },
  {
   "cell_type": "code",
   "execution_count": null,
   "id": "65331ebb",
   "metadata": {},
   "outputs": [],
   "source": [
    "sim12_run39_plt_folder = mplts.plot_instantaneous_field(sim_12_stab_folder, 39, tidx = \"all\", field = \"u\", dpi = dpi)\n",
    "mplts.film_instantaneous_field(sim12_run39_plt_folder, fps = 10, video_name = \"u_stability.mp4\")"
   ]
  },
  {
   "cell_type": "code",
   "execution_count": null,
   "id": "57c05351",
   "metadata": {},
   "outputs": [],
   "source": [
    "fig, ax = plt.subplots(dpi = 100)\n",
    "mplts.plot_requested_turb_power(ax, sim_12_stab_folder, [36], labels = [\"lower surge\"], zoom = [0, 250])"
   ]
  },
  {
   "cell_type": "code",
   "execution_count": null,
   "id": "c7a21696",
   "metadata": {},
   "outputs": [],
   "source": [
    "fig, ax = plt.subplots(dpi = 100)\n",
    "mplts.plot_requested_turb_power(ax, sim_12_stab_folder, [37], labels = [\"lower surge\"], zoom = [0, 200])"
   ]
  },
  {
   "cell_type": "code",
   "execution_count": null,
   "id": "81ddefcc",
   "metadata": {},
   "outputs": [],
   "source": [
    "fig, ax = plt.subplots(dpi = 100)\n",
    "mplts.plot_requested_turb_power(ax, sim_12_stab_folder, [38], labels = [\"lower surge\"], zoom = [0, 250])"
   ]
  },
  {
   "cell_type": "code",
   "execution_count": null,
   "id": "b6718dfe",
   "metadata": {},
   "outputs": [],
   "source": [
    "sim12_run7_plt_folder = mplts.plot_instantaneous_field(sim_12_stab_folder, 7, tidx = \"all\", field = \"u\", xlim = 0, dpi = dpi, set_plot_lims = True)\n",
    "mplts.film_instantaneous_field(sim12_run7_plt_folder, fps = 10, video_name = \"u_rotor_stability.mp4\")"
   ]
  },
  {
   "cell_type": "code",
   "execution_count": null,
   "id": "4ab248e0",
   "metadata": {},
   "outputs": [],
   "source": [
    "sim_08_folder = os.path.join(au.DATA_PATH, \"F_0008_X_SU_PI_Files\")"
   ]
  },
  {
   "cell_type": "code",
   "execution_count": null,
   "id": "001fbe93",
   "metadata": {},
   "outputs": [],
   "source": [
    "sim8_run4_plt_folder = mplts.plot_instantaneous_field(sim_08_folder, 4, tidx = \"all\", field = \"u\", xlim = 0, dpi = dpi, set_plot_lims = True)\n",
    "mplts.film_instantaneous_field(sim8_run4_plt_folder, fps = 10, video_name = \"u_rotor_stability.mp4\")"
   ]
  },
  {
   "cell_type": "code",
   "execution_count": null,
   "id": "cc985f34",
   "metadata": {},
   "outputs": [],
   "source": [
    "import padeopsIO as pio"
   ]
  },
  {
   "cell_type": "code",
   "execution_count": null,
   "id": "b9c0537e",
   "metadata": {},
   "outputs": [],
   "source": [
    "unmoving_folder = os.path.join(au.DATA_PATH, \"B_0001_Files\")\n",
    "big_yaw_folder = os.path.join(unmoving_folder, \"Sim_0044\")\n",
    "big_yaw_folder"
   ]
  },
  {
   "cell_type": "code",
   "execution_count": null,
   "id": "85d0e8ea",
   "metadata": {},
   "outputs": [],
   "source": [
    "bio = pio.budgetIO.BudgetIO(big_yaw_folder, padeops=True, runid = 0)"
   ]
  },
  {
   "cell_type": "code",
   "execution_count": null,
   "id": "748fb7ed",
   "metadata": {},
   "outputs": [],
   "source": [
    "bio.write_data(big_yaw_folder, [\"ubar\", \"vbar\", \"wbar\"], \"yaw_30_velocities\")"
   ]
  },
  {
   "cell_type": "code",
   "execution_count": null,
   "id": "4173ea74",
   "metadata": {},
   "outputs": [],
   "source": [
    "sim_15_folder = os.path.join(au.DATA_PATH, \"F_0015_X_SU_PI_Files\")"
   ]
  },
  {
   "cell_type": "code",
   "execution_count": null,
   "id": "e2c952a6",
   "metadata": {},
   "outputs": [],
   "source": [
    "fig, (ax0, ax1, ax2) = plt.subplots(3, 1, dpi = 100)\n",
    "fig.suptitle(\"$C_P$ Over Time\", fontsize = 16)\n",
    "ax0.set_ylim(0.5, 0.65)\n",
    "ax0.set_title(\"Stationary Turbine\")\n",
    "ax0.set_ylabel(\"$C_P$\")\n",
    "ax1.set_ylim(0.5, 0.65)\n",
    "ax1.set_title(\"Pitching Turbine ($f = 0.25$, $A = 5^\\circ$)\")\n",
    "ax1.set_ylabel(\"$C_P$\")\n",
    "ax2.set_ylim(-0.1, 2.5)\n",
    "ax2.set_title(\"Surging Turbine ($f = 0.25$, $A = 0.25$)\")\n",
    "ax2.set_ylabel(\"$C_P$\")\n",
    "ax2.set_xlabel(\"Timesteps\")\n",
    "zoom = [0, 250]\n",
    "mplts.plot_requested_turb_power(ax0, sim_15_folder, [0], labels = [\"lower surge\"], zoom = zoom)\n",
    "mplts.plot_requested_turb_power(ax1, sim_15_folder, [2], labels = [\"lower surge\"], zoom = zoom)\n",
    "mplts.plot_requested_turb_power(ax2, sim_15_folder, [1], labels = [\"lower surge\"], zoom = zoom)\n",
    "ax0.vlines(100, 0, 3, color = \"grey\", linestyles= \"dashed\")\n",
    "ax1.vlines(100, 0, 3, color = \"grey\", linestyles= \"dashed\")\n",
    "ax2.vlines(100, 0, 3, color = \"grey\", linestyles= \"dashed\")\n",
    "fig.subplots_adjust(hspace=0.5)"
   ]
  },
  {
   "cell_type": "code",
   "execution_count": null,
   "id": "a3545830",
   "metadata": {},
   "outputs": [],
   "source": [
    "sim_15_folder_run1 = mplts.plot_instantaneous_field(sim_15_folder, 1, tidx = \"all\", field = \"u\", dpi = dpi)\n",
    "mplts.film_instantaneous_field(sim_15_folder_run1, fps = 10, video_name = \"u_stability.mp4\")"
   ]
  },
  {
   "cell_type": "code",
   "execution_count": null,
   "id": "4d336c56",
   "metadata": {},
   "outputs": [],
   "source": [
    "run_folder = au.get_run_folder(sim_15_folder, 0)\n",
    "sim = pio.BudgetIO(run_folder, padeops = True, runid = 0, normalize_origin=\"turbine\")\n",
    "ds = sim.slice(budget_terms=['ubar'], xlim = [-5, 20], ylim = [-5, 5], zlim=0)\n",
    "ds"
   ]
  },
  {
   "cell_type": "code",
   "execution_count": null,
   "id": "6e7d463f",
   "metadata": {},
   "outputs": [],
   "source": [
    "ds['ubar'].imshow()"
   ]
  },
  {
   "cell_type": "code",
   "execution_count": 4,
   "id": "67427089",
   "metadata": {},
   "outputs": [],
   "source": [
    "sim_16_folder = os.path.join(au.DATA_PATH, \"F_0016_SU_PI_Files\")"
   ]
  },
  {
   "cell_type": "code",
   "execution_count": 8,
   "id": "ef7d3b7e",
   "metadata": {},
   "outputs": [
    {
     "name": "stdout",
     "output_type": "stream",
     "text": [
      "124\n",
      "BudgetIO loaded fields ['u'] at tidx: 6000, time: 300.000000\n"
     ]
    },
    {
     "name": "stderr",
     "output_type": "stream",
     "text": [
      "/home1/10264/sgering/.cache/pypoetry/virtualenvs/simspadeops-YbNxeWqo-py3.11/lib/python3.11/site-packages/padeopsIO/budgetIO.py:254: UserWarning: _init_padeops(): Sim_0124 no budget files found.\n",
      "  warnings.warn(f\"_init_padeops(): {self.filename} no budget files found.\")\n"
     ]
    },
    {
     "name": "stdout",
     "output_type": "stream",
     "text": [
      "BudgetIO loaded fields ['u'] at tidx: 0, time: 0.000000\n",
      "BudgetIO loaded fields ['u'] at tidx: 50, time: 2.500000\n",
      "BudgetIO loaded fields ['u'] at tidx: 100, time: 5.000000\n",
      "BudgetIO loaded fields ['u'] at tidx: 150, time: 7.500000\n",
      "BudgetIO loaded fields ['u'] at tidx: 200, time: 10.000000\n",
      "BudgetIO loaded fields ['u'] at tidx: 250, time: 12.500000\n",
      "BudgetIO loaded fields ['u'] at tidx: 300, time: 15.000000\n",
      "BudgetIO loaded fields ['u'] at tidx: 350, time: 17.500000\n",
      "BudgetIO loaded fields ['u'] at tidx: 400, time: 20.000000\n",
      "BudgetIO loaded fields ['u'] at tidx: 450, time: 22.500000\n",
      "BudgetIO loaded fields ['u'] at tidx: 500, time: 25.000000\n",
      "BudgetIO loaded fields ['u'] at tidx: 550, time: 27.500000\n",
      "BudgetIO loaded fields ['u'] at tidx: 600, time: 30.000000\n",
      "BudgetIO loaded fields ['u'] at tidx: 650, time: 32.500000\n",
      "BudgetIO loaded fields ['u'] at tidx: 700, time: 35.000000\n",
      "BudgetIO loaded fields ['u'] at tidx: 750, time: 37.500000\n",
      "BudgetIO loaded fields ['u'] at tidx: 800, time: 40.000000\n",
      "BudgetIO loaded fields ['u'] at tidx: 850, time: 42.500000\n",
      "BudgetIO loaded fields ['u'] at tidx: 900, time: 45.000000\n",
      "BudgetIO loaded fields ['u'] at tidx: 950, time: 47.500000\n",
      "BudgetIO loaded fields ['u'] at tidx: 1000, time: 50.000000\n",
      "BudgetIO loaded fields ['u'] at tidx: 1050, time: 52.500000\n",
      "BudgetIO loaded fields ['u'] at tidx: 1100, time: 55.000000\n",
      "BudgetIO loaded fields ['u'] at tidx: 1150, time: 57.500000\n",
      "BudgetIO loaded fields ['u'] at tidx: 1200, time: 60.000000\n",
      "BudgetIO loaded fields ['u'] at tidx: 1250, time: 62.500000\n",
      "BudgetIO loaded fields ['u'] at tidx: 1300, time: 65.000000\n",
      "BudgetIO loaded fields ['u'] at tidx: 1350, time: 67.500000\n",
      "BudgetIO loaded fields ['u'] at tidx: 1400, time: 70.000000\n",
      "BudgetIO loaded fields ['u'] at tidx: 1450, time: 72.500000\n",
      "BudgetIO loaded fields ['u'] at tidx: 1500, time: 75.000000\n",
      "BudgetIO loaded fields ['u'] at tidx: 1550, time: 77.500000\n",
      "BudgetIO loaded fields ['u'] at tidx: 1600, time: 80.000000\n",
      "BudgetIO loaded fields ['u'] at tidx: 1650, time: 82.500000\n",
      "BudgetIO loaded fields ['u'] at tidx: 1700, time: 85.000000\n",
      "BudgetIO loaded fields ['u'] at tidx: 1750, time: 87.500000\n",
      "BudgetIO loaded fields ['u'] at tidx: 1800, time: 90.000000\n",
      "BudgetIO loaded fields ['u'] at tidx: 1850, time: 92.500000\n",
      "BudgetIO loaded fields ['u'] at tidx: 1900, time: 95.000000\n",
      "BudgetIO loaded fields ['u'] at tidx: 1950, time: 97.500000\n",
      "BudgetIO loaded fields ['u'] at tidx: 2000, time: 100.000000\n",
      "BudgetIO loaded fields ['u'] at tidx: 2050, time: 102.500000\n",
      "BudgetIO loaded fields ['u'] at tidx: 2100, time: 105.000000\n",
      "BudgetIO loaded fields ['u'] at tidx: 2150, time: 107.500000\n",
      "BudgetIO loaded fields ['u'] at tidx: 2200, time: 110.000000\n",
      "BudgetIO loaded fields ['u'] at tidx: 2250, time: 112.500000\n",
      "BudgetIO loaded fields ['u'] at tidx: 2300, time: 115.000000\n",
      "BudgetIO loaded fields ['u'] at tidx: 2350, time: 117.500000\n",
      "BudgetIO loaded fields ['u'] at tidx: 2400, time: 120.000000\n",
      "BudgetIO loaded fields ['u'] at tidx: 2450, time: 122.500000\n",
      "BudgetIO loaded fields ['u'] at tidx: 2500, time: 125.000000\n",
      "BudgetIO loaded fields ['u'] at tidx: 2550, time: 127.500000\n",
      "BudgetIO loaded fields ['u'] at tidx: 2600, time: 130.000000\n",
      "BudgetIO loaded fields ['u'] at tidx: 2650, time: 132.500000\n",
      "BudgetIO loaded fields ['u'] at tidx: 2700, time: 135.000000\n",
      "BudgetIO loaded fields ['u'] at tidx: 2750, time: 137.500000\n",
      "BudgetIO loaded fields ['u'] at tidx: 2800, time: 140.000000\n",
      "BudgetIO loaded fields ['u'] at tidx: 2850, time: 142.500000\n",
      "BudgetIO loaded fields ['u'] at tidx: 2900, time: 145.000000\n",
      "BudgetIO loaded fields ['u'] at tidx: 2950, time: 147.500000\n",
      "BudgetIO loaded fields ['u'] at tidx: 3000, time: 150.000000\n",
      "BudgetIO loaded fields ['u'] at tidx: 3050, time: 152.500000\n",
      "BudgetIO loaded fields ['u'] at tidx: 3100, time: 155.000000\n",
      "BudgetIO loaded fields ['u'] at tidx: 3150, time: 157.500000\n",
      "BudgetIO loaded fields ['u'] at tidx: 3200, time: 160.000000\n",
      "BudgetIO loaded fields ['u'] at tidx: 3250, time: 162.500000\n",
      "BudgetIO loaded fields ['u'] at tidx: 3300, time: 165.000000\n",
      "BudgetIO loaded fields ['u'] at tidx: 3350, time: 167.500000\n",
      "BudgetIO loaded fields ['u'] at tidx: 3400, time: 170.000000\n",
      "BudgetIO loaded fields ['u'] at tidx: 3450, time: 172.500000\n",
      "BudgetIO loaded fields ['u'] at tidx: 3500, time: 175.000000\n",
      "BudgetIO loaded fields ['u'] at tidx: 3550, time: 177.500000\n",
      "BudgetIO loaded fields ['u'] at tidx: 3600, time: 180.000000\n",
      "BudgetIO loaded fields ['u'] at tidx: 3650, time: 182.500000\n",
      "BudgetIO loaded fields ['u'] at tidx: 3700, time: 185.000000\n",
      "BudgetIO loaded fields ['u'] at tidx: 3750, time: 187.500000\n",
      "BudgetIO loaded fields ['u'] at tidx: 3800, time: 190.000000\n",
      "BudgetIO loaded fields ['u'] at tidx: 3850, time: 192.500000\n",
      "BudgetIO loaded fields ['u'] at tidx: 3900, time: 195.000000\n",
      "BudgetIO loaded fields ['u'] at tidx: 3950, time: 197.500000\n",
      "BudgetIO loaded fields ['u'] at tidx: 4000, time: 200.000000\n",
      "BudgetIO loaded fields ['u'] at tidx: 4050, time: 202.500000\n",
      "BudgetIO loaded fields ['u'] at tidx: 4100, time: 205.000000\n",
      "BudgetIO loaded fields ['u'] at tidx: 4150, time: 207.500000\n",
      "BudgetIO loaded fields ['u'] at tidx: 4200, time: 210.000000\n",
      "BudgetIO loaded fields ['u'] at tidx: 4250, time: 212.500000\n",
      "BudgetIO loaded fields ['u'] at tidx: 4300, time: 215.000000\n",
      "BudgetIO loaded fields ['u'] at tidx: 4350, time: 217.500000\n",
      "BudgetIO loaded fields ['u'] at tidx: 4400, time: 220.000000\n",
      "BudgetIO loaded fields ['u'] at tidx: 4450, time: 222.500000\n",
      "BudgetIO loaded fields ['u'] at tidx: 4500, time: 225.000000\n",
      "BudgetIO loaded fields ['u'] at tidx: 4550, time: 227.500000\n",
      "BudgetIO loaded fields ['u'] at tidx: 4600, time: 230.000000\n",
      "BudgetIO loaded fields ['u'] at tidx: 4650, time: 232.500000\n",
      "BudgetIO loaded fields ['u'] at tidx: 4700, time: 235.000000\n",
      "BudgetIO loaded fields ['u'] at tidx: 4750, time: 237.500000\n",
      "BudgetIO loaded fields ['u'] at tidx: 4800, time: 240.000000\n",
      "BudgetIO loaded fields ['u'] at tidx: 4850, time: 242.500000\n",
      "BudgetIO loaded fields ['u'] at tidx: 4900, time: 245.000000\n",
      "BudgetIO loaded fields ['u'] at tidx: 4950, time: 247.500000\n",
      "BudgetIO loaded fields ['u'] at tidx: 5000, time: 250.000000\n",
      "BudgetIO loaded fields ['u'] at tidx: 5050, time: 252.500000\n",
      "BudgetIO loaded fields ['u'] at tidx: 5100, time: 255.000000\n",
      "BudgetIO loaded fields ['u'] at tidx: 5150, time: 257.500000\n",
      "BudgetIO loaded fields ['u'] at tidx: 5200, time: 260.000000\n",
      "BudgetIO loaded fields ['u'] at tidx: 5250, time: 262.500000\n",
      "BudgetIO loaded fields ['u'] at tidx: 5300, time: 265.000000\n",
      "BudgetIO loaded fields ['u'] at tidx: 5350, time: 267.500000\n",
      "BudgetIO loaded fields ['u'] at tidx: 5400, time: 270.000000\n",
      "BudgetIO loaded fields ['u'] at tidx: 5450, time: 272.500000\n",
      "BudgetIO loaded fields ['u'] at tidx: 5500, time: 275.000000\n",
      "BudgetIO loaded fields ['u'] at tidx: 5550, time: 277.500000\n",
      "BudgetIO loaded fields ['u'] at tidx: 5600, time: 280.000000\n",
      "BudgetIO loaded fields ['u'] at tidx: 5650, time: 282.500000\n",
      "BudgetIO loaded fields ['u'] at tidx: 5700, time: 285.000000\n",
      "BudgetIO loaded fields ['u'] at tidx: 5750, time: 287.500000\n",
      "BudgetIO loaded fields ['u'] at tidx: 5800, time: 290.000000\n",
      "BudgetIO loaded fields ['u'] at tidx: 5850, time: 292.500000\n",
      "BudgetIO loaded fields ['u'] at tidx: 5900, time: 295.000000\n",
      "BudgetIO loaded fields ['u'] at tidx: 5950, time: 297.500000\n",
      "BudgetIO loaded fields ['u'] at tidx: 6000, time: 300.000000\n",
      "MoviePy - Building video /scratch/10264/sgering/Data/F_0016_SU_PI_Files/Sim_0124/u_plots/u_rotor_stability.mp4.\n",
      "MoviePy - Writing video /scratch/10264/sgering/Data/F_0016_SU_PI_Files/Sim_0124/u_plots/u_rotor_stability.mp4\n",
      "\n"
     ]
    },
    {
     "name": "stderr",
     "output_type": "stream",
     "text": [
      "                                                                        \r"
     ]
    },
    {
     "name": "stdout",
     "output_type": "stream",
     "text": [
      "MoviePy - Done !\n",
      "MoviePy - video ready /scratch/10264/sgering/Data/F_0016_SU_PI_Files/Sim_0124/u_plots/u_rotor_stability.mp4\n"
     ]
    }
   ],
   "source": [
    "sim_16_124_folder = mplts.plot_instantaneous_field(sim_16_folder, 124, tidx = \"all\", field = \"u\", xlim = 0, dpi = dpi, set_plot_lims = True)\n",
    "mplts.film_instantaneous_field(sim_16_124_folder, fps = 10, video_name = \"u_rotor_stability.mp4\")"
   ]
  },
  {
   "cell_type": "code",
   "execution_count": 9,
   "id": "e02f8185",
   "metadata": {},
   "outputs": [
    {
     "name": "stderr",
     "output_type": "stream",
     "text": [
      "/home1/10264/sgering/.cache/pypoetry/virtualenvs/simspadeops-YbNxeWqo-py3.11/lib/python3.11/site-packages/padeopsIO/budgetIO.py:254: UserWarning: _init_padeops(): Sim_0124 no budget files found.\n",
      "  warnings.warn(f\"_init_padeops(): {self.filename} no budget files found.\")\n"
     ]
    },
    {
     "name": "stdout",
     "output_type": "stream",
     "text": [
      "124\n",
      "BudgetIO loaded fields ['u'] at tidx: 6000, time: 300.000000\n",
      "BudgetIO loaded fields ['u'] at tidx: 0, time: 0.000000\n",
      "BudgetIO loaded fields ['u'] at tidx: 50, time: 2.500000\n",
      "BudgetIO loaded fields ['u'] at tidx: 100, time: 5.000000\n",
      "BudgetIO loaded fields ['u'] at tidx: 150, time: 7.500000\n",
      "BudgetIO loaded fields ['u'] at tidx: 200, time: 10.000000\n",
      "BudgetIO loaded fields ['u'] at tidx: 250, time: 12.500000\n",
      "BudgetIO loaded fields ['u'] at tidx: 300, time: 15.000000\n",
      "BudgetIO loaded fields ['u'] at tidx: 350, time: 17.500000\n",
      "BudgetIO loaded fields ['u'] at tidx: 400, time: 20.000000\n",
      "BudgetIO loaded fields ['u'] at tidx: 450, time: 22.500000\n",
      "BudgetIO loaded fields ['u'] at tidx: 500, time: 25.000000\n",
      "BudgetIO loaded fields ['u'] at tidx: 550, time: 27.500000\n",
      "BudgetIO loaded fields ['u'] at tidx: 600, time: 30.000000\n",
      "BudgetIO loaded fields ['u'] at tidx: 650, time: 32.500000\n",
      "BudgetIO loaded fields ['u'] at tidx: 700, time: 35.000000\n",
      "BudgetIO loaded fields ['u'] at tidx: 750, time: 37.500000\n",
      "BudgetIO loaded fields ['u'] at tidx: 800, time: 40.000000\n",
      "BudgetIO loaded fields ['u'] at tidx: 850, time: 42.500000\n",
      "BudgetIO loaded fields ['u'] at tidx: 900, time: 45.000000\n",
      "BudgetIO loaded fields ['u'] at tidx: 950, time: 47.500000\n",
      "BudgetIO loaded fields ['u'] at tidx: 1000, time: 50.000000\n",
      "BudgetIO loaded fields ['u'] at tidx: 1050, time: 52.500000\n",
      "BudgetIO loaded fields ['u'] at tidx: 1100, time: 55.000000\n",
      "BudgetIO loaded fields ['u'] at tidx: 1150, time: 57.500000\n",
      "BudgetIO loaded fields ['u'] at tidx: 1200, time: 60.000000\n",
      "BudgetIO loaded fields ['u'] at tidx: 1250, time: 62.500000\n",
      "BudgetIO loaded fields ['u'] at tidx: 1300, time: 65.000000\n",
      "BudgetIO loaded fields ['u'] at tidx: 1350, time: 67.500000\n",
      "BudgetIO loaded fields ['u'] at tidx: 1400, time: 70.000000\n",
      "BudgetIO loaded fields ['u'] at tidx: 1450, time: 72.500000\n",
      "BudgetIO loaded fields ['u'] at tidx: 1500, time: 75.000000\n",
      "BudgetIO loaded fields ['u'] at tidx: 1550, time: 77.500000\n",
      "BudgetIO loaded fields ['u'] at tidx: 1600, time: 80.000000\n",
      "BudgetIO loaded fields ['u'] at tidx: 1650, time: 82.500000\n",
      "BudgetIO loaded fields ['u'] at tidx: 1700, time: 85.000000\n",
      "BudgetIO loaded fields ['u'] at tidx: 1750, time: 87.500000\n",
      "BudgetIO loaded fields ['u'] at tidx: 1800, time: 90.000000\n",
      "BudgetIO loaded fields ['u'] at tidx: 1850, time: 92.500000\n",
      "BudgetIO loaded fields ['u'] at tidx: 1900, time: 95.000000\n",
      "BudgetIO loaded fields ['u'] at tidx: 1950, time: 97.500000\n",
      "BudgetIO loaded fields ['u'] at tidx: 2000, time: 100.000000\n",
      "BudgetIO loaded fields ['u'] at tidx: 2050, time: 102.500000\n",
      "BudgetIO loaded fields ['u'] at tidx: 2100, time: 105.000000\n",
      "BudgetIO loaded fields ['u'] at tidx: 2150, time: 107.500000\n",
      "BudgetIO loaded fields ['u'] at tidx: 2200, time: 110.000000\n",
      "BudgetIO loaded fields ['u'] at tidx: 2250, time: 112.500000\n",
      "BudgetIO loaded fields ['u'] at tidx: 2300, time: 115.000000\n",
      "BudgetIO loaded fields ['u'] at tidx: 2350, time: 117.500000\n",
      "BudgetIO loaded fields ['u'] at tidx: 2400, time: 120.000000\n",
      "BudgetIO loaded fields ['u'] at tidx: 2450, time: 122.500000\n",
      "BudgetIO loaded fields ['u'] at tidx: 2500, time: 125.000000\n",
      "BudgetIO loaded fields ['u'] at tidx: 2550, time: 127.500000\n",
      "BudgetIO loaded fields ['u'] at tidx: 2600, time: 130.000000\n",
      "BudgetIO loaded fields ['u'] at tidx: 2650, time: 132.500000\n",
      "BudgetIO loaded fields ['u'] at tidx: 2700, time: 135.000000\n",
      "BudgetIO loaded fields ['u'] at tidx: 2750, time: 137.500000\n",
      "BudgetIO loaded fields ['u'] at tidx: 2800, time: 140.000000\n",
      "BudgetIO loaded fields ['u'] at tidx: 2850, time: 142.500000\n",
      "BudgetIO loaded fields ['u'] at tidx: 2900, time: 145.000000\n",
      "BudgetIO loaded fields ['u'] at tidx: 2950, time: 147.500000\n",
      "BudgetIO loaded fields ['u'] at tidx: 3000, time: 150.000000\n",
      "BudgetIO loaded fields ['u'] at tidx: 3050, time: 152.500000\n",
      "BudgetIO loaded fields ['u'] at tidx: 3100, time: 155.000000\n",
      "BudgetIO loaded fields ['u'] at tidx: 3150, time: 157.500000\n",
      "BudgetIO loaded fields ['u'] at tidx: 3200, time: 160.000000\n",
      "BudgetIO loaded fields ['u'] at tidx: 3250, time: 162.500000\n",
      "BudgetIO loaded fields ['u'] at tidx: 3300, time: 165.000000\n",
      "BudgetIO loaded fields ['u'] at tidx: 3350, time: 167.500000\n",
      "BudgetIO loaded fields ['u'] at tidx: 3400, time: 170.000000\n",
      "BudgetIO loaded fields ['u'] at tidx: 3450, time: 172.500000\n",
      "BudgetIO loaded fields ['u'] at tidx: 3500, time: 175.000000\n",
      "BudgetIO loaded fields ['u'] at tidx: 3550, time: 177.500000\n",
      "BudgetIO loaded fields ['u'] at tidx: 3600, time: 180.000000\n",
      "BudgetIO loaded fields ['u'] at tidx: 3650, time: 182.500000\n",
      "BudgetIO loaded fields ['u'] at tidx: 3700, time: 185.000000\n",
      "BudgetIO loaded fields ['u'] at tidx: 3750, time: 187.500000\n",
      "BudgetIO loaded fields ['u'] at tidx: 3800, time: 190.000000\n",
      "BudgetIO loaded fields ['u'] at tidx: 3850, time: 192.500000\n",
      "BudgetIO loaded fields ['u'] at tidx: 3900, time: 195.000000\n",
      "BudgetIO loaded fields ['u'] at tidx: 3950, time: 197.500000\n",
      "BudgetIO loaded fields ['u'] at tidx: 4000, time: 200.000000\n",
      "BudgetIO loaded fields ['u'] at tidx: 4050, time: 202.500000\n",
      "BudgetIO loaded fields ['u'] at tidx: 4100, time: 205.000000\n",
      "BudgetIO loaded fields ['u'] at tidx: 4150, time: 207.500000\n",
      "BudgetIO loaded fields ['u'] at tidx: 4200, time: 210.000000\n",
      "BudgetIO loaded fields ['u'] at tidx: 4250, time: 212.500000\n",
      "BudgetIO loaded fields ['u'] at tidx: 4300, time: 215.000000\n",
      "BudgetIO loaded fields ['u'] at tidx: 4350, time: 217.500000\n",
      "BudgetIO loaded fields ['u'] at tidx: 4400, time: 220.000000\n",
      "BudgetIO loaded fields ['u'] at tidx: 4450, time: 222.500000\n",
      "BudgetIO loaded fields ['u'] at tidx: 4500, time: 225.000000\n",
      "BudgetIO loaded fields ['u'] at tidx: 4550, time: 227.500000\n",
      "BudgetIO loaded fields ['u'] at tidx: 4600, time: 230.000000\n",
      "BudgetIO loaded fields ['u'] at tidx: 4650, time: 232.500000\n",
      "BudgetIO loaded fields ['u'] at tidx: 4700, time: 235.000000\n",
      "BudgetIO loaded fields ['u'] at tidx: 4750, time: 237.500000\n",
      "BudgetIO loaded fields ['u'] at tidx: 4800, time: 240.000000\n",
      "BudgetIO loaded fields ['u'] at tidx: 4850, time: 242.500000\n",
      "BudgetIO loaded fields ['u'] at tidx: 4900, time: 245.000000\n",
      "BudgetIO loaded fields ['u'] at tidx: 4950, time: 247.500000\n",
      "BudgetIO loaded fields ['u'] at tidx: 5000, time: 250.000000\n",
      "BudgetIO loaded fields ['u'] at tidx: 5050, time: 252.500000\n",
      "BudgetIO loaded fields ['u'] at tidx: 5100, time: 255.000000\n",
      "BudgetIO loaded fields ['u'] at tidx: 5150, time: 257.500000\n",
      "BudgetIO loaded fields ['u'] at tidx: 5200, time: 260.000000\n",
      "BudgetIO loaded fields ['u'] at tidx: 5250, time: 262.500000\n",
      "BudgetIO loaded fields ['u'] at tidx: 5300, time: 265.000000\n",
      "BudgetIO loaded fields ['u'] at tidx: 5350, time: 267.500000\n",
      "BudgetIO loaded fields ['u'] at tidx: 5400, time: 270.000000\n",
      "BudgetIO loaded fields ['u'] at tidx: 5450, time: 272.500000\n",
      "BudgetIO loaded fields ['u'] at tidx: 5500, time: 275.000000\n",
      "BudgetIO loaded fields ['u'] at tidx: 5550, time: 277.500000\n",
      "BudgetIO loaded fields ['u'] at tidx: 5600, time: 280.000000\n",
      "BudgetIO loaded fields ['u'] at tidx: 5650, time: 282.500000\n",
      "BudgetIO loaded fields ['u'] at tidx: 5700, time: 285.000000\n",
      "BudgetIO loaded fields ['u'] at tidx: 5750, time: 287.500000\n",
      "BudgetIO loaded fields ['u'] at tidx: 5800, time: 290.000000\n",
      "BudgetIO loaded fields ['u'] at tidx: 5850, time: 292.500000\n",
      "BudgetIO loaded fields ['u'] at tidx: 5900, time: 295.000000\n",
      "BudgetIO loaded fields ['u'] at tidx: 5950, time: 297.500000\n",
      "BudgetIO loaded fields ['u'] at tidx: 6000, time: 300.000000\n",
      "MoviePy - Building video /scratch/10264/sgering/Data/F_0016_SU_PI_Files/Sim_0124/u_plots/u_stability.mp4.\n",
      "MoviePy - Writing video /scratch/10264/sgering/Data/F_0016_SU_PI_Files/Sim_0124/u_plots/u_stability.mp4\n",
      "\n"
     ]
    },
    {
     "name": "stderr",
     "output_type": "stream",
     "text": [
      "                                                                        \r"
     ]
    },
    {
     "name": "stdout",
     "output_type": "stream",
     "text": [
      "MoviePy - Done !\n",
      "MoviePy - video ready /scratch/10264/sgering/Data/F_0016_SU_PI_Files/Sim_0124/u_plots/u_stability.mp4\n"
     ]
    }
   ],
   "source": [
    "sim_16_124_folder = mplts.plot_instantaneous_field(sim_16_folder, 124, tidx = \"all\", field = \"u\", dpi = dpi)\n",
    "mplts.film_instantaneous_field(sim_16_124_folder, fps = 10, video_name = \"u_stability.mp4\")"
   ]
  },
  {
   "cell_type": "code",
   "execution_count": 10,
   "id": "97f3ac7c",
   "metadata": {},
   "outputs": [
    {
     "name": "stdout",
     "output_type": "stream",
     "text": [
      "123\n",
      "73\n"
     ]
    },
    {
     "name": "stderr",
     "output_type": "stream",
     "text": [
      "/home1/10264/sgering/.cache/pypoetry/virtualenvs/simspadeops-YbNxeWqo-py3.11/lib/python3.11/site-packages/padeopsIO/budgetIO.py:254: UserWarning: _init_padeops(): Sim_0123 no budget files found.\n",
      "  warnings.warn(f\"_init_padeops(): {self.filename} no budget files found.\")\n",
      "/home1/10264/sgering/.cache/pypoetry/virtualenvs/simspadeops-YbNxeWqo-py3.11/lib/python3.11/site-packages/padeopsIO/budgetIO.py:254: UserWarning: _init_padeops(): Sim_0073 no budget files found.\n",
      "  warnings.warn(f\"_init_padeops(): {self.filename} no budget files found.\")\n"
     ]
    },
    {
     "data": {
      "image/png": "[encoded data removed]",
      "text/plain": [
       "<Figure size 640x480 with 1 Axes>"
      ]
     },
     "metadata": {},
     "output_type": "display_data"
    }
   ],
   "source": [
    "fig, ax = plt.subplots(dpi = 100)\n",
    "mplts.plot_requested_turb_power(ax, sim_16_folder, [123, 73], labels = [\"2.0\", \"1.66\"], zoom = [240, 250])"
   ]
  },
  {
   "cell_type": "code",
   "execution_count": 1,
   "id": "5dd1100d",
   "metadata": {},
   "outputs": [
    {
     "ename": "NameError",
     "evalue": "name 'plt' is not defined",
     "output_type": "error",
     "traceback": [
      "\u001b[0;31m---------------------------------------------------------------------------\u001b[0m",
      "\u001b[0;31mNameError\u001b[0m                                 Traceback (most recent call last)",
      "Cell \u001b[0;32mIn[1], line 1\u001b[0m\n\u001b[0;32m----> 1\u001b[0m fig, ax \u001b[38;5;241m=\u001b[39m \u001b[43mplt\u001b[49m\u001b[38;5;241m.\u001b[39msubplots(dpi \u001b[38;5;241m=\u001b[39m \u001b[38;5;241m100\u001b[39m)\n\u001b[1;32m      2\u001b[0m mplts\u001b[38;5;241m.\u001b[39mplot_requested_turb_power(ax, sim_16_folder, [\u001b[38;5;241m123\u001b[39m, \u001b[38;5;241m73\u001b[39m], labels \u001b[38;5;241m=\u001b[39m [\u001b[38;5;124m\"\u001b[39m\u001b[38;5;124m2.0\u001b[39m\u001b[38;5;124m\"\u001b[39m, \u001b[38;5;124m\"\u001b[39m\u001b[38;5;124m1.66\u001b[39m\u001b[38;5;124m\"\u001b[39m], zoom \u001b[38;5;241m=\u001b[39m [\u001b[38;5;241m240\u001b[39m, \u001b[38;5;241m250\u001b[39m])\n",
      "\u001b[0;31mNameError\u001b[0m: name 'plt' is not defined"
     ]
    }
   ],
   "source": [
    "fig, ax = plt.subplots(dpi = 100)\n",
    "mplts.plot_requested_turb_power(ax, sim_16_folder, [123, 73], labels = [\"2.0\", \"1.66\"], zoom = [240, 250])"
   ]
  },
  {
   "cell_type": "code",
   "execution_count": null,
   "id": "e110eef4",
   "metadata": {},
   "outputs": [],
   "source": [
    "fig, ax = plt.subplots(dpi = 100)\n",
    "mplts.plot_requested_turb_power(ax, sim_16_folder, [123, 73], labels = [\"2.0\", \"1.66\"], zoom = [240, 250])"
   ]
  },
  {
   "cell_type": "code",
   "execution_count": 6,
   "id": "90a924b5",
   "metadata": {},
   "outputs": [
    {
     "name": "stdout",
     "output_type": "stream",
     "text": [
      "118\n"
     ]
    },
    {
     "name": "stderr",
     "output_type": "stream",
     "text": [
      "/home1/10264/sgering/.cache/pypoetry/virtualenvs/simspadeops-YbNxeWqo-py3.11/lib/python3.11/site-packages/padeopsIO/budgetIO.py:254: UserWarning: _init_padeops(): Sim_0118 no budget files found.\n",
      "  warnings.warn(f\"_init_padeops(): {self.filename} no budget files found.\")\n"
     ]
    },
    {
     "name": "stdout",
     "output_type": "stream",
     "text": [
      "BudgetIO loaded fields ['u'] at tidx: 6000, time: 300.000000\n",
      "BudgetIO loaded fields ['u'] at tidx: 0, time: 0.000000\n",
      "BudgetIO loaded fields ['u'] at tidx: 50, time: 2.500000\n",
      "BudgetIO loaded fields ['u'] at tidx: 100, time: 5.000000\n",
      "BudgetIO loaded fields ['u'] at tidx: 150, time: 7.500000\n",
      "BudgetIO loaded fields ['u'] at tidx: 200, time: 10.000000\n",
      "BudgetIO loaded fields ['u'] at tidx: 250, time: 12.500000\n",
      "BudgetIO loaded fields ['u'] at tidx: 300, time: 15.000000\n",
      "BudgetIO loaded fields ['u'] at tidx: 350, time: 17.500000\n",
      "BudgetIO loaded fields ['u'] at tidx: 400, time: 20.000000\n",
      "BudgetIO loaded fields ['u'] at tidx: 450, time: 22.500000\n",
      "BudgetIO loaded fields ['u'] at tidx: 500, time: 25.000000\n",
      "BudgetIO loaded fields ['u'] at tidx: 550, time: 27.500000\n",
      "BudgetIO loaded fields ['u'] at tidx: 600, time: 30.000000\n",
      "BudgetIO loaded fields ['u'] at tidx: 650, time: 32.500000\n",
      "BudgetIO loaded fields ['u'] at tidx: 700, time: 35.000000\n",
      "BudgetIO loaded fields ['u'] at tidx: 750, time: 37.500000\n",
      "BudgetIO loaded fields ['u'] at tidx: 800, time: 40.000000\n",
      "BudgetIO loaded fields ['u'] at tidx: 850, time: 42.500000\n",
      "BudgetIO loaded fields ['u'] at tidx: 900, time: 45.000000\n",
      "BudgetIO loaded fields ['u'] at tidx: 950, time: 47.500000\n",
      "BudgetIO loaded fields ['u'] at tidx: 1000, time: 50.000000\n",
      "BudgetIO loaded fields ['u'] at tidx: 1050, time: 52.500000\n",
      "BudgetIO loaded fields ['u'] at tidx: 1100, time: 55.000000\n",
      "BudgetIO loaded fields ['u'] at tidx: 1150, time: 57.500000\n",
      "BudgetIO loaded fields ['u'] at tidx: 1200, time: 60.000000\n",
      "BudgetIO loaded fields ['u'] at tidx: 1250, time: 62.500000\n",
      "BudgetIO loaded fields ['u'] at tidx: 1300, time: 65.000000\n",
      "BudgetIO loaded fields ['u'] at tidx: 1350, time: 67.500000\n",
      "BudgetIO loaded fields ['u'] at tidx: 1400, time: 70.000000\n",
      "BudgetIO loaded fields ['u'] at tidx: 1450, time: 72.500000\n",
      "BudgetIO loaded fields ['u'] at tidx: 1500, time: 75.000000\n",
      "BudgetIO loaded fields ['u'] at tidx: 1550, time: 77.500000\n",
      "BudgetIO loaded fields ['u'] at tidx: 1600, time: 80.000000\n",
      "BudgetIO loaded fields ['u'] at tidx: 1650, time: 82.500000\n",
      "BudgetIO loaded fields ['u'] at tidx: 1700, time: 85.000000\n",
      "BudgetIO loaded fields ['u'] at tidx: 1750, time: 87.500000\n",
      "BudgetIO loaded fields ['u'] at tidx: 1800, time: 90.000000\n",
      "BudgetIO loaded fields ['u'] at tidx: 1850, time: 92.500000\n",
      "BudgetIO loaded fields ['u'] at tidx: 1900, time: 95.000000\n",
      "BudgetIO loaded fields ['u'] at tidx: 1950, time: 97.500000\n",
      "BudgetIO loaded fields ['u'] at tidx: 2000, time: 100.000000\n",
      "BudgetIO loaded fields ['u'] at tidx: 2050, time: 102.500000\n",
      "BudgetIO loaded fields ['u'] at tidx: 2100, time: 105.000000\n",
      "BudgetIO loaded fields ['u'] at tidx: 2150, time: 107.500000\n",
      "BudgetIO loaded fields ['u'] at tidx: 2200, time: 110.000000\n",
      "BudgetIO loaded fields ['u'] at tidx: 2250, time: 112.500000\n",
      "BudgetIO loaded fields ['u'] at tidx: 2300, time: 115.000000\n",
      "BudgetIO loaded fields ['u'] at tidx: 2350, time: 117.500000\n",
      "BudgetIO loaded fields ['u'] at tidx: 2400, time: 120.000000\n",
      "BudgetIO loaded fields ['u'] at tidx: 2450, time: 122.500000\n",
      "BudgetIO loaded fields ['u'] at tidx: 2500, time: 125.000000\n",
      "BudgetIO loaded fields ['u'] at tidx: 2550, time: 127.500000\n",
      "BudgetIO loaded fields ['u'] at tidx: 2600, time: 130.000000\n",
      "BudgetIO loaded fields ['u'] at tidx: 2650, time: 132.500000\n",
      "BudgetIO loaded fields ['u'] at tidx: 2700, time: 135.000000\n",
      "BudgetIO loaded fields ['u'] at tidx: 2750, time: 137.500000\n",
      "BudgetIO loaded fields ['u'] at tidx: 2800, time: 140.000000\n",
      "BudgetIO loaded fields ['u'] at tidx: 2850, time: 142.500000\n",
      "BudgetIO loaded fields ['u'] at tidx: 2900, time: 145.000000\n",
      "BudgetIO loaded fields ['u'] at tidx: 2950, time: 147.500000\n",
      "BudgetIO loaded fields ['u'] at tidx: 3000, time: 150.000000\n",
      "BudgetIO loaded fields ['u'] at tidx: 3050, time: 152.500000\n",
      "BudgetIO loaded fields ['u'] at tidx: 3100, time: 155.000000\n",
      "BudgetIO loaded fields ['u'] at tidx: 3150, time: 157.500000\n",
      "BudgetIO loaded fields ['u'] at tidx: 3200, time: 160.000000\n",
      "BudgetIO loaded fields ['u'] at tidx: 3250, time: 162.500000\n",
      "BudgetIO loaded fields ['u'] at tidx: 3300, time: 165.000000\n",
      "BudgetIO loaded fields ['u'] at tidx: 3350, time: 167.500000\n",
      "BudgetIO loaded fields ['u'] at tidx: 3400, time: 170.000000\n",
      "BudgetIO loaded fields ['u'] at tidx: 3450, time: 172.500000\n",
      "BudgetIO loaded fields ['u'] at tidx: 3500, time: 175.000000\n",
      "BudgetIO loaded fields ['u'] at tidx: 3550, time: 177.500000\n",
      "BudgetIO loaded fields ['u'] at tidx: 3600, time: 180.000000\n",
      "BudgetIO loaded fields ['u'] at tidx: 3650, time: 182.500000\n",
      "BudgetIO loaded fields ['u'] at tidx: 3700, time: 185.000000\n",
      "BudgetIO loaded fields ['u'] at tidx: 3750, time: 187.500000\n",
      "BudgetIO loaded fields ['u'] at tidx: 3800, time: 190.000000\n",
      "BudgetIO loaded fields ['u'] at tidx: 3850, time: 192.500000\n",
      "BudgetIO loaded fields ['u'] at tidx: 3900, time: 195.000000\n",
      "BudgetIO loaded fields ['u'] at tidx: 3950, time: 197.500000\n",
      "BudgetIO loaded fields ['u'] at tidx: 4000, time: 200.000000\n",
      "BudgetIO loaded fields ['u'] at tidx: 4050, time: 202.500000\n",
      "BudgetIO loaded fields ['u'] at tidx: 4100, time: 205.000000\n",
      "BudgetIO loaded fields ['u'] at tidx: 4150, time: 207.500000\n",
      "BudgetIO loaded fields ['u'] at tidx: 4200, time: 210.000000\n",
      "BudgetIO loaded fields ['u'] at tidx: 4250, time: 212.500000\n",
      "BudgetIO loaded fields ['u'] at tidx: 4300, time: 215.000000\n",
      "BudgetIO loaded fields ['u'] at tidx: 4350, time: 217.500000\n",
      "BudgetIO loaded fields ['u'] at tidx: 4400, time: 220.000000\n",
      "BudgetIO loaded fields ['u'] at tidx: 4450, time: 222.500000\n",
      "BudgetIO loaded fields ['u'] at tidx: 4500, time: 225.000000\n",
      "BudgetIO loaded fields ['u'] at tidx: 4550, time: 227.500000\n",
      "BudgetIO loaded fields ['u'] at tidx: 4600, time: 230.000000\n",
      "BudgetIO loaded fields ['u'] at tidx: 4650, time: 232.500000\n",
      "BudgetIO loaded fields ['u'] at tidx: 4700, time: 235.000000\n",
      "BudgetIO loaded fields ['u'] at tidx: 4750, time: 237.500000\n",
      "BudgetIO loaded fields ['u'] at tidx: 4800, time: 240.000000\n",
      "BudgetIO loaded fields ['u'] at tidx: 4850, time: 242.500000\n",
      "BudgetIO loaded fields ['u'] at tidx: 4900, time: 245.000000\n",
      "BudgetIO loaded fields ['u'] at tidx: 4950, time: 247.500000\n",
      "BudgetIO loaded fields ['u'] at tidx: 5000, time: 250.000000\n",
      "BudgetIO loaded fields ['u'] at tidx: 5050, time: 252.500000\n",
      "BudgetIO loaded fields ['u'] at tidx: 5100, time: 255.000000\n",
      "BudgetIO loaded fields ['u'] at tidx: 5150, time: 257.500000\n",
      "BudgetIO loaded fields ['u'] at tidx: 5200, time: 260.000000\n",
      "BudgetIO loaded fields ['u'] at tidx: 5250, time: 262.500000\n",
      "BudgetIO loaded fields ['u'] at tidx: 5300, time: 265.000000\n",
      "BudgetIO loaded fields ['u'] at tidx: 5350, time: 267.500000\n",
      "BudgetIO loaded fields ['u'] at tidx: 5400, time: 270.000000\n",
      "BudgetIO loaded fields ['u'] at tidx: 5450, time: 272.500000\n",
      "BudgetIO loaded fields ['u'] at tidx: 5500, time: 275.000000\n",
      "BudgetIO loaded fields ['u'] at tidx: 5550, time: 277.500000\n",
      "BudgetIO loaded fields ['u'] at tidx: 5600, time: 280.000000\n",
      "BudgetIO loaded fields ['u'] at tidx: 5650, time: 282.500000\n",
      "BudgetIO loaded fields ['u'] at tidx: 5700, time: 285.000000\n",
      "BudgetIO loaded fields ['u'] at tidx: 5750, time: 287.500000\n",
      "BudgetIO loaded fields ['u'] at tidx: 5800, time: 290.000000\n",
      "BudgetIO loaded fields ['u'] at tidx: 5850, time: 292.500000\n",
      "BudgetIO loaded fields ['u'] at tidx: 5900, time: 295.000000\n",
      "BudgetIO loaded fields ['u'] at tidx: 5950, time: 297.500000\n",
      "BudgetIO loaded fields ['u'] at tidx: 6000, time: 300.000000\n",
      "MoviePy - Building video /scratch/10264/sgering/Data/F_0016_SU_PI_Files/Sim_0118/u_plots/u_stability.mp4.\n",
      "MoviePy - Writing video /scratch/10264/sgering/Data/F_0016_SU_PI_Files/Sim_0118/u_plots/u_stability.mp4\n",
      "\n"
     ]
    },
    {
     "name": "stderr",
     "output_type": "stream",
     "text": [
      "                                                                        \r"
     ]
    },
    {
     "name": "stdout",
     "output_type": "stream",
     "text": [
      "MoviePy - Done !\n",
      "MoviePy - video ready /scratch/10264/sgering/Data/F_0016_SU_PI_Files/Sim_0118/u_plots/u_stability.mp4\n"
     ]
    }
   ],
   "source": [
    "sim_16_118_folder = mplts.plot_instantaneous_field(sim_16_folder, 118, tidx = \"all\", field = \"u\", dpi = dpi)\n",
    "mplts.film_instantaneous_field(sim_16_118_folder, fps = 10, video_name = \"u_stability.mp4\")"
   ]
  },
  {
   "cell_type": "code",
   "execution_count": 7,
   "id": "d4c5fa53",
   "metadata": {},
   "outputs": [
    {
     "name": "stdout",
     "output_type": "stream",
     "text": [
      "18\n",
      "BudgetIO loaded fields ['u'] at tidx: 6000, time: 300.000000\n",
      "BudgetIO loaded fields ['u'] at tidx: 0, time: 0.000000\n"
     ]
    },
    {
     "name": "stderr",
     "output_type": "stream",
     "text": [
      "/home1/10264/sgering/.cache/pypoetry/virtualenvs/simspadeops-YbNxeWqo-py3.11/lib/python3.11/site-packages/padeopsIO/budgetIO.py:254: UserWarning: _init_padeops(): Sim_0018 no budget files found.\n",
      "  warnings.warn(f\"_init_padeops(): {self.filename} no budget files found.\")\n"
     ]
    },
    {
     "name": "stdout",
     "output_type": "stream",
     "text": [
      "BudgetIO loaded fields ['u'] at tidx: 50, time: 2.500000\n",
      "BudgetIO loaded fields ['u'] at tidx: 100, time: 5.000000\n",
      "BudgetIO loaded fields ['u'] at tidx: 150, time: 7.500000\n",
      "BudgetIO loaded fields ['u'] at tidx: 200, time: 10.000000\n",
      "BudgetIO loaded fields ['u'] at tidx: 250, time: 12.500000\n",
      "BudgetIO loaded fields ['u'] at tidx: 300, time: 15.000000\n",
      "BudgetIO loaded fields ['u'] at tidx: 350, time: 17.500000\n",
      "BudgetIO loaded fields ['u'] at tidx: 400, time: 20.000000\n",
      "BudgetIO loaded fields ['u'] at tidx: 450, time: 22.500000\n",
      "BudgetIO loaded fields ['u'] at tidx: 500, time: 25.000000\n",
      "BudgetIO loaded fields ['u'] at tidx: 550, time: 27.500000\n",
      "BudgetIO loaded fields ['u'] at tidx: 600, time: 30.000000\n",
      "BudgetIO loaded fields ['u'] at tidx: 650, time: 32.500000\n",
      "BudgetIO loaded fields ['u'] at tidx: 700, time: 35.000000\n",
      "BudgetIO loaded fields ['u'] at tidx: 750, time: 37.500000\n",
      "BudgetIO loaded fields ['u'] at tidx: 800, time: 40.000000\n",
      "BudgetIO loaded fields ['u'] at tidx: 850, time: 42.500000\n",
      "BudgetIO loaded fields ['u'] at tidx: 900, time: 45.000000\n",
      "BudgetIO loaded fields ['u'] at tidx: 950, time: 47.500000\n",
      "BudgetIO loaded fields ['u'] at tidx: 1000, time: 50.000000\n",
      "BudgetIO loaded fields ['u'] at tidx: 1050, time: 52.500000\n",
      "BudgetIO loaded fields ['u'] at tidx: 1100, time: 55.000000\n",
      "BudgetIO loaded fields ['u'] at tidx: 1150, time: 57.500000\n",
      "BudgetIO loaded fields ['u'] at tidx: 1200, time: 60.000000\n",
      "BudgetIO loaded fields ['u'] at tidx: 1250, time: 62.500000\n",
      "BudgetIO loaded fields ['u'] at tidx: 1300, time: 65.000000\n",
      "BudgetIO loaded fields ['u'] at tidx: 1350, time: 67.500000\n",
      "BudgetIO loaded fields ['u'] at tidx: 1400, time: 70.000000\n",
      "BudgetIO loaded fields ['u'] at tidx: 1450, time: 72.500000\n",
      "BudgetIO loaded fields ['u'] at tidx: 1500, time: 75.000000\n",
      "BudgetIO loaded fields ['u'] at tidx: 1550, time: 77.500000\n",
      "BudgetIO loaded fields ['u'] at tidx: 1600, time: 80.000000\n",
      "BudgetIO loaded fields ['u'] at tidx: 1650, time: 82.500000\n",
      "BudgetIO loaded fields ['u'] at tidx: 1700, time: 85.000000\n",
      "BudgetIO loaded fields ['u'] at tidx: 1750, time: 87.500000\n",
      "BudgetIO loaded fields ['u'] at tidx: 1800, time: 90.000000\n",
      "BudgetIO loaded fields ['u'] at tidx: 1850, time: 92.500000\n",
      "BudgetIO loaded fields ['u'] at tidx: 1900, time: 95.000000\n",
      "BudgetIO loaded fields ['u'] at tidx: 1950, time: 97.500000\n",
      "BudgetIO loaded fields ['u'] at tidx: 2000, time: 100.000000\n",
      "BudgetIO loaded fields ['u'] at tidx: 2050, time: 102.500000\n",
      "BudgetIO loaded fields ['u'] at tidx: 2100, time: 105.000000\n",
      "BudgetIO loaded fields ['u'] at tidx: 2150, time: 107.500000\n",
      "BudgetIO loaded fields ['u'] at tidx: 2200, time: 110.000000\n",
      "BudgetIO loaded fields ['u'] at tidx: 2250, time: 112.500000\n",
      "BudgetIO loaded fields ['u'] at tidx: 2300, time: 115.000000\n",
      "BudgetIO loaded fields ['u'] at tidx: 2350, time: 117.500000\n",
      "BudgetIO loaded fields ['u'] at tidx: 2400, time: 120.000000\n",
      "BudgetIO loaded fields ['u'] at tidx: 2450, time: 122.500000\n",
      "BudgetIO loaded fields ['u'] at tidx: 2500, time: 125.000000\n",
      "BudgetIO loaded fields ['u'] at tidx: 2550, time: 127.500000\n",
      "BudgetIO loaded fields ['u'] at tidx: 2600, time: 130.000000\n",
      "BudgetIO loaded fields ['u'] at tidx: 2650, time: 132.500000\n",
      "BudgetIO loaded fields ['u'] at tidx: 2700, time: 135.000000\n",
      "BudgetIO loaded fields ['u'] at tidx: 2750, time: 137.500000\n",
      "BudgetIO loaded fields ['u'] at tidx: 2800, time: 140.000000\n",
      "BudgetIO loaded fields ['u'] at tidx: 2850, time: 142.500000\n",
      "BudgetIO loaded fields ['u'] at tidx: 2900, time: 145.000000\n",
      "BudgetIO loaded fields ['u'] at tidx: 2950, time: 147.500000\n",
      "BudgetIO loaded fields ['u'] at tidx: 3000, time: 150.000000\n",
      "BudgetIO loaded fields ['u'] at tidx: 3050, time: 152.500000\n",
      "BudgetIO loaded fields ['u'] at tidx: 3100, time: 155.000000\n",
      "BudgetIO loaded fields ['u'] at tidx: 3150, time: 157.500000\n",
      "BudgetIO loaded fields ['u'] at tidx: 3200, time: 160.000000\n",
      "BudgetIO loaded fields ['u'] at tidx: 3250, time: 162.500000\n",
      "BudgetIO loaded fields ['u'] at tidx: 3300, time: 165.000000\n",
      "BudgetIO loaded fields ['u'] at tidx: 3350, time: 167.500000\n",
      "BudgetIO loaded fields ['u'] at tidx: 3400, time: 170.000000\n",
      "BudgetIO loaded fields ['u'] at tidx: 3450, time: 172.500000\n",
      "BudgetIO loaded fields ['u'] at tidx: 3500, time: 175.000000\n",
      "BudgetIO loaded fields ['u'] at tidx: 3550, time: 177.500000\n",
      "BudgetIO loaded fields ['u'] at tidx: 3600, time: 180.000000\n",
      "BudgetIO loaded fields ['u'] at tidx: 3650, time: 182.500000\n",
      "BudgetIO loaded fields ['u'] at tidx: 3700, time: 185.000000\n",
      "BudgetIO loaded fields ['u'] at tidx: 3750, time: 187.500000\n",
      "BudgetIO loaded fields ['u'] at tidx: 3800, time: 190.000000\n",
      "BudgetIO loaded fields ['u'] at tidx: 3850, time: 192.500000\n",
      "BudgetIO loaded fields ['u'] at tidx: 3900, time: 195.000000\n",
      "BudgetIO loaded fields ['u'] at tidx: 3950, time: 197.500000\n",
      "BudgetIO loaded fields ['u'] at tidx: 4000, time: 200.000000\n",
      "BudgetIO loaded fields ['u'] at tidx: 4050, time: 202.500000\n",
      "BudgetIO loaded fields ['u'] at tidx: 4100, time: 205.000000\n",
      "BudgetIO loaded fields ['u'] at tidx: 4150, time: 207.500000\n",
      "BudgetIO loaded fields ['u'] at tidx: 4200, time: 210.000000\n",
      "BudgetIO loaded fields ['u'] at tidx: 4250, time: 212.500000\n",
      "BudgetIO loaded fields ['u'] at tidx: 4300, time: 215.000000\n",
      "BudgetIO loaded fields ['u'] at tidx: 4350, time: 217.500000\n",
      "BudgetIO loaded fields ['u'] at tidx: 4400, time: 220.000000\n",
      "BudgetIO loaded fields ['u'] at tidx: 4450, time: 222.500000\n",
      "BudgetIO loaded fields ['u'] at tidx: 4500, time: 225.000000\n",
      "BudgetIO loaded fields ['u'] at tidx: 4550, time: 227.500000\n",
      "BudgetIO loaded fields ['u'] at tidx: 4600, time: 230.000000\n",
      "BudgetIO loaded fields ['u'] at tidx: 4650, time: 232.500000\n",
      "BudgetIO loaded fields ['u'] at tidx: 4700, time: 235.000000\n",
      "BudgetIO loaded fields ['u'] at tidx: 4750, time: 237.500000\n",
      "BudgetIO loaded fields ['u'] at tidx: 4800, time: 240.000000\n",
      "BudgetIO loaded fields ['u'] at tidx: 4850, time: 242.500000\n",
      "BudgetIO loaded fields ['u'] at tidx: 4900, time: 245.000000\n",
      "BudgetIO loaded fields ['u'] at tidx: 4950, time: 247.500000\n",
      "BudgetIO loaded fields ['u'] at tidx: 5000, time: 250.000000\n",
      "BudgetIO loaded fields ['u'] at tidx: 5050, time: 252.500000\n",
      "BudgetIO loaded fields ['u'] at tidx: 5100, time: 255.000000\n",
      "BudgetIO loaded fields ['u'] at tidx: 5150, time: 257.500000\n",
      "BudgetIO loaded fields ['u'] at tidx: 5200, time: 260.000000\n",
      "BudgetIO loaded fields ['u'] at tidx: 5250, time: 262.500000\n",
      "BudgetIO loaded fields ['u'] at tidx: 5300, time: 265.000000\n",
      "BudgetIO loaded fields ['u'] at tidx: 5350, time: 267.500000\n",
      "BudgetIO loaded fields ['u'] at tidx: 5400, time: 270.000000\n",
      "BudgetIO loaded fields ['u'] at tidx: 5450, time: 272.500000\n",
      "BudgetIO loaded fields ['u'] at tidx: 5500, time: 275.000000\n",
      "BudgetIO loaded fields ['u'] at tidx: 5550, time: 277.500000\n",
      "BudgetIO loaded fields ['u'] at tidx: 5600, time: 280.000000\n",
      "BudgetIO loaded fields ['u'] at tidx: 5650, time: 282.500000\n",
      "BudgetIO loaded fields ['u'] at tidx: 5700, time: 285.000000\n",
      "BudgetIO loaded fields ['u'] at tidx: 5750, time: 287.500000\n",
      "BudgetIO loaded fields ['u'] at tidx: 5800, time: 290.000000\n",
      "BudgetIO loaded fields ['u'] at tidx: 5850, time: 292.500000\n",
      "BudgetIO loaded fields ['u'] at tidx: 5900, time: 295.000000\n",
      "BudgetIO loaded fields ['u'] at tidx: 5950, time: 297.500000\n",
      "BudgetIO loaded fields ['u'] at tidx: 6000, time: 300.000000\n",
      "MoviePy - Building video /scratch/10264/sgering/Data/F_0016_SU_PI_Files/Sim_0018/u_plots/u_rotor_stability.mp4.\n",
      "MoviePy - Writing video /scratch/10264/sgering/Data/F_0016_SU_PI_Files/Sim_0018/u_plots/u_rotor_stability.mp4\n",
      "\n"
     ]
    },
    {
     "name": "stderr",
     "output_type": "stream",
     "text": [
      "                                                                        \r"
     ]
    },
    {
     "name": "stdout",
     "output_type": "stream",
     "text": [
      "MoviePy - Done !\n",
      "MoviePy - video ready /scratch/10264/sgering/Data/F_0016_SU_PI_Files/Sim_0018/u_plots/u_rotor_stability.mp4\n"
     ]
    }
   ],
   "source": [
    "sim_16_18_folder = mplts.plot_instantaneous_field(sim_16_folder, 18, tidx = \"all\", field = \"u\", xlim = 0, dpi = dpi, set_plot_lims = True)\n",
    "mplts.film_instantaneous_field(sim_16_18_folder, fps = 10, video_name = \"u_rotor_stability.mp4\")"
   ]
  },
  {
   "cell_type": "code",
   "execution_count": 22,
   "id": "d14704e4",
   "metadata": {},
   "outputs": [
    {
     "name": "stdout",
     "output_type": "stream",
     "text": [
      "123\n"
     ]
    },
    {
     "name": "stderr",
     "output_type": "stream",
     "text": [
      "/home1/10264/sgering/.cache/pypoetry/virtualenvs/simspadeops-YbNxeWqo-py3.11/lib/python3.11/site-packages/padeopsIO/budgetIO.py:254: UserWarning: _init_padeops(): Sim_0123_low_res no budget files found.\n",
      "  warnings.warn(f\"_init_padeops(): {self.filename} no budget files found.\")\n"
     ]
    },
    {
     "data": {
      "text/plain": [
       "DescribeResult(nobs=np.int64(4000), minmax=(np.float64(-0.5506504312032912), np.float64(3.231126972690011)), mean=np.float64(1.3364533655664412), variance=np.float64(1.794662094326898), skewness=np.float64(0.0057633529494022055), kurtosis=np.float64(-1.5031573836851508))"
      ]
     },
     "execution_count": 22,
     "metadata": {},
     "output_type": "execute_result"
    }
   ],
   "source": [
    "run_folder_high_res = au.get_run_folder(sim_16_folder, 123)\n",
    "run_folder_low_res = run_folder_high_res + \"_low_res\"\n",
    "sim_low_res = pio.BudgetIO(run_folder_low_res, padeops = True, runid = 0)\n",
    "dt_low_res = sim_low_res.input_nml[\"input\"][\"dt\"]\n",
    "trans_tau_low_res = int(math.ceil(100 / dt_low_res) + 1)\n",
    "power_low_res = sim_low_res.read_turb_uvel(\"all\", turb=1)[trans_tau_low_res:]\n",
    "Cp_vals_low_res = [au.power_to_Cp(p) for p in power_low_res]\n",
    "Cp_stats_low_res = describe(Cp_vals_low_res)\n",
    "Cp_stats_low_res"
   ]
  },
  {
   "cell_type": "code",
   "execution_count": 24,
   "id": "6490c8f6",
   "metadata": {},
   "outputs": [
    {
     "name": "stderr",
     "output_type": "stream",
     "text": [
      "/home1/10264/sgering/.cache/pypoetry/virtualenvs/simspadeops-YbNxeWqo-py3.11/lib/python3.11/site-packages/padeopsIO/budgetIO.py:254: UserWarning: _init_padeops(): Sim_0123 no budget files found.\n",
      "  warnings.warn(f\"_init_padeops(): {self.filename} no budget files found.\")\n"
     ]
    },
    {
     "data": {
      "text/plain": [
       "DescribeResult(nobs=np.int64(4000), minmax=(np.float64(-0.5637959915395495), np.float64(3.230378885415895)), mean=np.float64(1.3302861698748474), variance=np.float64(1.8113433717647005), skewness=np.float64(0.004768648415818847), kurtosis=np.float64(-1.5035932089396087))"
      ]
     },
     "execution_count": 24,
     "metadata": {},
     "output_type": "execute_result"
    }
   ],
   "source": [
    "sim_high_res = pio.BudgetIO(run_folder_high_res, padeops = True, runid = 0)\n",
    "dt_high_res = sim_high_res.input_nml[\"input\"][\"dt\"]\n",
    "trans_tau_high_res = int(math.ceil(100 / dt_high_res) + 1)\n",
    "power_high_res = sim_high_res.read_turb_uvel(\"all\", turb=1)[trans_tau_high_res:]\n",
    "Cp_vals_high_res = [au.power_to_Cp(p) for p in power_high_res]\n",
    "Cp_stats_high_res = describe(Cp_vals_high_res)\n",
    "Cp_stats_high_res"
   ]
  },
  {
   "cell_type": "code",
   "execution_count": 27,
   "id": "ee7708a6",
   "metadata": {},
   "outputs": [
    {
     "name": "stderr",
     "output_type": "stream",
     "text": [
      "/home1/10264/sgering/.cache/pypoetry/virtualenvs/simspadeops-YbNxeWqo-py3.11/lib/python3.11/site-packages/padeopsIO/budgetIO.py:254: UserWarning: _init_padeops(): Sim_0073_low_res no budget files found.\n",
      "  warnings.warn(f\"_init_padeops(): {self.filename} no budget files found.\")\n"
     ]
    },
    {
     "name": "stdout",
     "output_type": "stream",
     "text": [
      "73\n"
     ]
    },
    {
     "data": {
      "text/plain": [
       "DescribeResult(nobs=np.int64(4000), minmax=(np.float64(-0.39302674649860714), np.float64(3.4222603556352187)), mean=np.float64(1.5151037624567647), variance=np.float64(1.8294013840426053), skewness=np.float64(0.0020483776448352716), kurtosis=np.float64(-1.5034097870334433))"
      ]
     },
     "execution_count": 27,
     "metadata": {},
     "output_type": "execute_result"
    }
   ],
   "source": [
    "run_folder_high_res = au.get_run_folder(sim_16_folder, 73)\n",
    "run_folder_low_res = run_folder_high_res + \"_low_res\"\n",
    "sim_low_res = pio.BudgetIO(run_folder_low_res, padeops = True, runid = 0)\n",
    "dt_low_res = sim_low_res.input_nml[\"input\"][\"dt\"]\n",
    "trans_tau_low_res = int(math.ceil(100 / dt_low_res) + 1)\n",
    "power_low_res = sim_low_res.read_turb_uvel(\"all\", turb=1)[trans_tau_low_res:]\n",
    "Cp_vals_low_res = [au.power_to_Cp(p) for p in power_low_res]\n",
    "Cp_stats_low_res = describe(Cp_vals_low_res)\n",
    "Cp_stats_low_res"
   ]
  },
  {
   "cell_type": "code",
   "execution_count": 28,
   "id": "4987d3f1",
   "metadata": {},
   "outputs": [
    {
     "name": "stderr",
     "output_type": "stream",
     "text": [
      "/home1/10264/sgering/.cache/pypoetry/virtualenvs/simspadeops-YbNxeWqo-py3.11/lib/python3.11/site-packages/padeopsIO/budgetIO.py:254: UserWarning: _init_padeops(): Sim_0073 no budget files found.\n",
      "  warnings.warn(f\"_init_padeops(): {self.filename} no budget files found.\")\n"
     ]
    },
    {
     "data": {
      "text/plain": [
       "DescribeResult(nobs=np.int64(4000), minmax=(np.float64(-0.41265029395809755), np.float64(3.415691620530122)), mean=np.float64(1.502500046067576), variance=np.float64(1.8439390995110763), skewness=np.float64(0.0013434018754712239), kurtosis=np.float64(-1.5037402887161306))"
      ]
     },
     "execution_count": 28,
     "metadata": {},
     "output_type": "execute_result"
    }
   ],
   "source": [
    "sim_high_res = pio.BudgetIO(run_folder_high_res, padeops = True, runid = 0)\n",
    "dt_high_res = sim_high_res.input_nml[\"input\"][\"dt\"]\n",
    "trans_tau_high_res = int(math.ceil(100 / dt_high_res) + 1)\n",
    "power_high_res = sim_high_res.read_turb_uvel(\"all\", turb=1)[trans_tau_high_res:]\n",
    "Cp_vals_high_res = [au.power_to_Cp(p) for p in power_high_res]\n",
    "Cp_stats_high_res = describe(Cp_vals_high_res)\n",
    "Cp_stats_high_res"
   ]
  },
  {
   "cell_type": "code",
   "execution_count": 34,
   "id": "1f5db922",
   "metadata": {},
   "outputs": [
    {
     "name": "stdout",
     "output_type": "stream",
     "text": [
      "123\n",
      "73\n"
     ]
    },
    {
     "name": "stderr",
     "output_type": "stream",
     "text": [
      "/home1/10264/sgering/.cache/pypoetry/virtualenvs/simspadeops-YbNxeWqo-py3.11/lib/python3.11/site-packages/padeopsIO/budgetIO.py:254: UserWarning: _init_padeops(): Sim_0123 no budget files found.\n",
      "  warnings.warn(f\"_init_padeops(): {self.filename} no budget files found.\")\n",
      "/home1/10264/sgering/.cache/pypoetry/virtualenvs/simspadeops-YbNxeWqo-py3.11/lib/python3.11/site-packages/padeopsIO/budgetIO.py:254: UserWarning: _init_padeops(): Sim_0073 no budget files found.\n",
      "  warnings.warn(f\"_init_padeops(): {self.filename} no budget files found.\")\n"
     ]
    },
    {
     "data": {
      "image/png": "[encoded data removed]",
      "text/plain": [
       "<Figure size 640x480 with 1 Axes>"
      ]
     },
     "metadata": {},
     "output_type": "display_data"
    }
   ],
   "source": [
    "fig, ax = plt.subplots(dpi = 100)\n",
    "mplts.plot_requested_turb_power(ax, sim_16_folder, [123, 73], labels = [\"2.0\", \"1.66\"], zoom = [240, 250])"
   ]
  },
  {
   "cell_type": "code",
   "execution_count": null,
   "id": "31801f58",
   "metadata": {},
   "outputs": [],
   "source": []
  }
 ],
 "metadata": {
  "kernelspec": {
   "display_name": "simspadeops-py3.11",
   "language": "python",
   "name": "python3"
  },
  "language_info": {
   "codemirror_mode": {
    "name": "ipython",
    "version": 3
   },
   "file_extension": ".py",
   "mimetype": "text/x-python",
   "name": "python",
   "nbconvert_exporter": "python",
   "pygments_lexer": "ipython3",
   "version": "3.11.13"
  }
 },
 "nbformat": 4,
 "nbformat_minor": 5
}
